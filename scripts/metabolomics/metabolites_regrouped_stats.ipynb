{
 "cells": [
  {
   "cell_type": "code",
   "execution_count": 1,
   "metadata": {},
   "outputs": [],
   "source": [
    "import pandas as pd\n",
    "import scipy as sp\n",
    "import numpy as np\n",
    "from statsmodels.formula.api import ols\n",
    "import statsmodels.stats.multicomp\n",
    "from statsmodels.stats.anova import anova_lm\n",
    "import scipy.stats as stats"
   ]
  },
  {
   "cell_type": "code",
   "execution_count": 80,
   "metadata": {},
   "outputs": [],
   "source": [
    "metabolites = pd.read_csv(\"/Users/huananshi/Desktop/plasma_nutrients.csv\",index_col=0)\n",
    "metabolites = metabolites.transpose()\n",
    "metabolites_log10 = metabolites.apply(np.log10)\n",
    "metadata = pd.read_csv(\"/Users/huananshi/Box Sync/EODF_analysis/intermediate_files/metadata/metadata.csv\",index_col=0)\n",
    "metabolites_sample = metadata.index.intersection(metabolites.index)\n",
    "#gene_name = gene.loc[\"description\"]\n",
    "metabolites_metadata_log10 = pd.concat([metadata.loc[metabolites_sample],metabolites_log10.loc[metabolites_sample]],sort = True, axis =1 )\n",
    "metabolites_metadata = pd.concat([metadata.loc[metabolites_sample],metabolites.loc[metabolites_sample]],sort = True, axis =1 )\n",
    "\n",
    "               \n",
    "                                 "
   ]
  },
  {
   "cell_type": "code",
   "execution_count": 81,
   "metadata": {},
   "outputs": [],
   "source": [
    "def metabolite_stat(result):\n",
    "    #there are a ton of stuff can be simplified or optimized for more general use: I can load the file and filter groups based on given names\n",
    "    #i can set an argument to determine the numbers of groups, factors and determine which stats should be run\n",
    "    res_sca=result  \n",
    "    metabolites = res_sca.columns.tolist()[4:]\n",
    "    res_stat = pd.DataFrame()\n",
    "    res_mc = pd.DataFrame()\n",
    "\n",
    "    for metabolite in metabolites: \n",
    "        test = res_sca.loc[:,[\"Genotype\", \"Group\",\"Genotype_Group\",metabolite]]\n",
    "        test.columns = [\"Genotype\", \"Group\",\"Genotype_Group\",\"value\"]\n",
    "        test.loc[:,\"value\"]=test.loc[:,\"value\"].astype(float)\n",
    "        model = ols('value ~ C(Genotype)*C(Group)', test).fit()\n",
    "        aov_table = anova_lm(model, typ=2)\n",
    "        res_stat=res_stat.append(aov_table[\"PR(>F)\"].transpose()[0:3])\n",
    "        mc = statsmodels.stats.multicomp.MultiComparison(test['value'],test['Genotype_Group'])\n",
    "        mc_BH_table = mc.allpairtest(stats.ttest_ind,method='fdr_bh')[0]\n",
    "        mc_table=pd.DataFrame(mc_BH_table.data[1:],columns=mc_BH_table.data[0])\n",
    "        res_mc = res_mc.append(mc_table[\"pval_corr\"].transpose())\n",
    "    res_mc.index = metabolites\n",
    "    res_stat.index = metabolites\n",
    "    res_mc.columns = mc_table[\"group1\"]+\"_\"+mc_table[\"group2\"]\n",
    "    res_stats = pd.concat([res_stat,res_mc],axis =1)\n",
    "    return res_stats #,res_sca_sig"
   ]
  },
  {
   "cell_type": "code",
   "execution_count": 82,
   "metadata": {
    "scrolled": true
   },
   "outputs": [
    {
     "name": "stderr",
     "output_type": "stream",
     "text": [
      "/opt/anaconda3/lib/python3.7/site-packages/statsmodels/stats/multitest.py:325: RuntimeWarning: invalid value encountered in less_equal\n",
      "  reject = pvals_sorted <= ecdffactor*alpha\n"
     ]
    }
   ],
   "source": [
    "metabolites_abun_stat = metabolite_stat(metabolites_metadata_log10)"
   ]
  },
  {
   "cell_type": "code",
   "execution_count": 83,
   "metadata": {},
   "outputs": [],
   "source": [
    "metabolites_names = metabolites.columns\n",
    "metabolites_sum = metabolites_metadata.groupby(\"Genotype_Group\").mean().transpose()\n",
    "metabolites_abun_stat['log2fc_SC_WC'] = metabolites_sum[\"SHRSP_Con\"].div(metabolites_sum[\"WKY_Con\"]).apply(np.log2)\n",
    "metabolites_abun_stat['log2fc_SC_SE'] = metabolites_sum[\"SHRSP_Con\"].div(metabolites_sum[\"SHRSP_EODF\"]).apply(np.log2)\n",
    "metabolites_abun_stat['fc_SC_WC'] = metabolites_sum[\"SHRSP_Con\"].div(metabolites_sum[\"WKY_Con\"])\n",
    "metabolites_abun_stat['fc_SC_SE'] = metabolites_sum[\"SHRSP_Con\"].div(metabolites_sum[\"SHRSP_EODF\"])"
   ]
  },
  {
   "cell_type": "code",
   "execution_count": 85,
   "metadata": {},
   "outputs": [],
   "source": [
    "metabolites_abun_stat.to_csv(\"/Users/huananshi/Desktop/plasma_nutrients_stats.csv\")"
   ]
  },
  {
   "cell_type": "code",
   "execution_count": null,
   "metadata": {},
   "outputs": [],
   "source": []
  }
 ],
 "metadata": {
  "kernelspec": {
   "display_name": "Python 3",
   "language": "python",
   "name": "python3"
  },
  "language_info": {
   "codemirror_mode": {
    "name": "ipython",
    "version": 3
   },
   "file_extension": ".py",
   "mimetype": "text/x-python",
   "name": "python",
   "nbconvert_exporter": "python",
   "pygments_lexer": "ipython3",
   "version": "3.7.6"
  }
 },
 "nbformat": 4,
 "nbformat_minor": 2
}
