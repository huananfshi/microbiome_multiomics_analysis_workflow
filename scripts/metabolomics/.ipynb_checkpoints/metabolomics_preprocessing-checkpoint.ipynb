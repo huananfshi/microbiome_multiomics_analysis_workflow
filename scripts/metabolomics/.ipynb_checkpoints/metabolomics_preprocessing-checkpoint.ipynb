{
 "cells": [
  {
   "cell_type": "code",
   "execution_count": 1,
   "metadata": {
    "scrolled": true
   },
   "outputs": [],
   "source": [
    "import pandas as pd\n",
    "import scipy as sp\n",
    "import numpy as np"
   ]
  },
  {
   "cell_type": "code",
   "execution_count": 2,
   "metadata": {},
   "outputs": [],
   "source": [
    "#import metadata\n",
    "metadata = pd.read_csv(\"/Users/huananshi/Box Sync/EODF_analysis/intermediate_files/metadata/metadata.csv\",\n",
    "                       index_col=0 )"
   ]
  },
  {
   "cell_type": "code",
   "execution_count": 10,
   "metadata": {},
   "outputs": [],
   "source": [
    "result = pd.ExcelFile(\"/Users/huananshi/Box Sync/EODF_analysis/raw_data/metabolomics/PLASMA RESULTS.XLSX\")\n",
    "res_sca=result.parse(sheet_name = 'ScaledImpData',skiprows=[1,2,3,4,5,6],usecols=\"N:AQ\")\n",
    "metabolites = result.parse(sheet_name = 'ScaledImpData',skiprows=[0,1,2,3,4,5,6],usecols=\":M\",header=0)[\"BIOCHEMICAL\"].tolist()\n",
    "res_sca.columns = res_sca.columns.str.replace(\"EOD\",\"Durgan.\")\n",
    "res_sca.columns = res_sca.columns.str.replace(\" Plasma\",\"\")\n",
    "res_sca = res_sca[res_sca.columns.intersection(metadata.index)] #only keep samples in metadata.\n",
    "res_sca.iloc[1:]=res_sca.iloc[1:].applymap(np.log10) #log10 transformation\n",
    "geno = res_sca.iloc[0].str.split(\" \").str.get(0)\n",
    "treat = res_sca.iloc[0].str.split(\" \").str.get(1)\n",
    "res_sca = res_sca.append(geno)\n",
    "res_sca = res_sca.append(treat)\n",
    "res_sca = res_sca.sort_index(axis=0)\n",
    "res_sca = res_sca.reset_index()\n",
    "res_sca = res_sca.drop('index',axis=1)\n",
    "res_index = [\"Group\",\"Genotype\",\"Treatment\"] + metabolites\n",
    "res_sca.index = res_index\n",
    "res_sca.index = res_sca.index.str.replace(\"*\",\"\")\n",
    "res_sca.to_csv(\"/Users/huananshi/Box Sync/EODF_analysis/intermediate_files/metabolomics/plasma_metabolites_log10.csv\")"
   ]
  },
  {
   "cell_type": "code",
   "execution_count": 15,
   "metadata": {},
   "outputs": [],
   "source": [
    "plasma_metabolites_pwy = result.parse(sheet_name = 'ScaledImpData',skiprows=[0,1,2,3,4,5,6],usecols=\":M\",header=0)[[\"BIOCHEMICAL\",\"SUPER PATHWAY\",\"SUB PATHWAY\"]]\n",
    "plasma_metabolites_pwy.index = plasma_metabolites_pwy[\"BIOCHEMICAL\"].str.replace(\"*\",\"\")\n",
    "plasma_metabolites_pwy = plasma_metabolites_pwy[[\"SUPER PATHWAY\",\"SUB PATHWAY\"]]\n",
    "plasma_metabolites_pwy.to_csv(\"/Users/huananshi/Box Sync/EODF_analysis/intermediate_files/metabolomics/plasma_metabolites_pwy_info.csv\")"
   ]
  },
  {
   "cell_type": "code",
   "execution_count": 36,
   "metadata": {},
   "outputs": [],
   "source": [
    "res_sca_raw = res_sca.iloc[3:].astype(\"float\").applymap(lambda x:10**x)\n",
    "plasma_metabolites_subpwy = pd.concat([plasma_metabolites_pwy[\"SUB PATHWAY\"],res_sca_raw],axis =1)\n",
    "plasma_metabolites_subpwy = plasma_metabolites_subpwy.groupby(\"SUB PATHWAY\").sum()\n",
    "plasma_metabolites_subpwy_log10 = plasma_metabolites_subpwy.applymap(np.log10)\n",
    "plasma_metabolites_subpwy_log10.to_csv(\"/Users/huananshi/Box Sync/EODF_analysis/intermediate_files/metabolomics/plasma_metabolites_by_subpwy.csv\")"
   ]
  },
  {
   "cell_type": "code",
   "execution_count": 37,
   "metadata": {},
   "outputs": [],
   "source": [
    "#preprocessing for cecal metabolites\n",
    "result = pd.ExcelFile(\"/Users/huananshi/Box Sync/EODF_analysis/raw_data/metabolomics/BAYL-02-19VW+ CECAL CONTENT CDT.XLSX\")\n",
    "res_sca=result.parse(sheet_name = 'ScaledImpData',skiprows=[1,2,3,4,5,6,7],usecols=\"N:AR\")\n",
    "metabolites = result.parse(sheet_name = 'ScaledImpData',skiprows=[0,1,2,3,4,5,6],usecols=\":M\",header=1)[\"BIOCHEMICAL\"].tolist()\n",
    "res_sca.columns = res_sca.columns.str.replace(\"EOD\",\"Durgan.\")\n",
    "res_sca.columns = res_sca.columns.str.replace(\" Cecal\",\"\")\n",
    "res_sca = res_sca[res_sca.columns.intersection(metadata.index)] #only keep samples in metadata.\n",
    "res_sca.iloc[1:]=res_sca.iloc[1:].applymap(np.log10) #log10 transformation\n",
    "geno = res_sca.iloc[0].str.split(\" \").str.get(0)\n",
    "treat = res_sca.iloc[0].str.split(\" \").str.get(1)\n",
    "res_sca = res_sca.append(geno)\n",
    "res_sca = res_sca.append(treat)\n",
    "res_sca = res_sca.sort_index(axis=0)\n",
    "res_sca = res_sca.reset_index()\n",
    "res_sca = res_sca.drop('index',axis=1)\n",
    "res_index = [\"Group\",\"Genotype\",\"Treatment\"] + metabolites\n",
    "res_sca.index = res_index\n",
    "res_sca.index = res_sca.index.str.replace(\"*\",\"\")\n",
    "res_sca.to_csv(\"/Users/huananshi/Box Sync/EODF_analysis/intermediate_files/metabolomics/cecal_metabolites_log10.csv\")"
   ]
  },
  {
   "cell_type": "code",
   "execution_count": 38,
   "metadata": {},
   "outputs": [],
   "source": [
    "cecal_metabolites_pwy = result.parse(sheet_name = 'ScaledImpData',skiprows=[0,1,2,3,4,5,6],usecols=\":M\",header=1)[[\"BIOCHEMICAL\",\"SUPER PATHWAY\",\"SUB PATHWAY\"]]\n",
    "cecal_metabolites_pwy.index = cecal_metabolites_pwy[\"BIOCHEMICAL\"].str.replace(\"*\",\"\")\n",
    "cecal_metabolites_pwy = cecal_metabolites_pwy[[\"SUPER PATHWAY\",\"SUB PATHWAY\"]]\n",
    "cecal_metabolites_pwy.to_csv(\"/Users/huananshi/Box Sync/EODF_analysis/intermediate_files/metabolomics/cecal_metabolites_pwy_info.csv\")"
   ]
  },
  {
   "cell_type": "code",
   "execution_count": 39,
   "metadata": {},
   "outputs": [],
   "source": [
    "res_sca_raw = res_sca.iloc[3:].astype(\"float\").applymap(lambda x:10**x)\n",
    "cecal_metabolites_subpwy = pd.concat([cecal_metabolites_pwy[\"SUB PATHWAY\"],res_sca_raw],axis =1)\n",
    "cecal_metabolites_subpwy = cecal_metabolites_subpwy.groupby(\"SUB PATHWAY\").sum()\n",
    "cecal_metabolites_subpwy_log10 = cecal_metabolites_subpwy.applymap(np.log10)\n",
    "cecal_metabolites_subpwy_log10.to_csv(\"/Users/huananshi/Box Sync/EODF_analysis/intermediate_files/metabolomics/cecal_metabolites_by_subpwy.csv\")"
   ]
  },
  {
   "cell_type": "code",
   "execution_count": null,
   "metadata": {},
   "outputs": [],
   "source": []
  }
 ],
 "metadata": {
  "kernelspec": {
   "display_name": "Python 3",
   "language": "python",
   "name": "python3"
  },
  "language_info": {
   "codemirror_mode": {
    "name": "ipython",
    "version": 3
   },
   "file_extension": ".py",
   "mimetype": "text/x-python",
   "name": "python",
   "nbconvert_exporter": "python",
   "pygments_lexer": "ipython3",
   "version": "3.7.4"
  }
 },
 "nbformat": 4,
 "nbformat_minor": 2
}
