{
 "cells": [
  {
   "cell_type": "code",
   "execution_count": 57,
   "metadata": {},
   "outputs": [],
   "source": [
    "import pandas as pd\n",
    "import scipy as sp\n",
    "import numpy as np\n",
    "from statsmodels.formula.api import ols\n",
    "import statsmodels.stats.multicomp\n",
    "from statsmodels.stats.anova import anova_lm\n",
    "import scipy.stats as stats"
   ]
  },
  {
   "cell_type": "code",
   "execution_count": 48,
   "metadata": {},
   "outputs": [],
   "source": [
    "pathway = pd.read_csv(\"/Users/huananshi/Box Sync/EODF_analysis/intermediate_files/pathways/pathways_relab_all_nonspecies.csv\",index_col=0)\n",
    "metadata = pd.read_csv(\"/Users/huananshi/Box Sync/EODF_analysis/intermediate_files/metadata/metadata.csv\",\n",
    "                       index_col=0 )\n",
    "pathway_sample = metadata.index.intersection(pathway.index)\n",
    "\n",
    "pathway_metadata = pd.concat([metadata.loc[pathway_sample],pathway.loc[pathway_sample]],sort = True, axis =1 )\n",
    "pathway_metadata = pathway_metadata.rename(columns={'Group':'Treatment',\"Genotype_Group\":\"Group\"})\n"
   ]
  },
  {
   "cell_type": "code",
   "execution_count": 54,
   "metadata": {},
   "outputs": [],
   "source": [
    "def pathway_stat(result):\n",
    "    #there are a ton of stuff can be simplified or optimized for more general use: I can load the file and filter groups based on given names\n",
    "    #i can set an argument to determine the numbers of groups, factors and determine which stats should be run\n",
    "    res_sca=result  \n",
    "    pwys = res_sca.columns.tolist()[3:]\n",
    "    res_stat = pd.DataFrame(index=pwys)\n",
    "    res_stat['p_interaction']=\"\"\n",
    "    res_stat['p_genotype']=\"\"\n",
    "    res_stat['p_treatment']=\"\"\n",
    "    res_stat['p_WC_SC']=\"\"\n",
    "    res_stat['p_WC_SE']=\"\"\n",
    "    res_stat['p_WC_WE']=\"\"\n",
    "    res_stat['p_WE_SC']=\"\"\n",
    "    res_stat['p_WE_SE']=\"\"\n",
    "    res_stat['p_SC_SE']=\"\"\n",
    "    \n",
    "    for pwy in pwys: \n",
    "        test = res_sca.loc[:,[\"Group\",\"Genotype\",\"Treatment\",pwy]]\n",
    "        test.columns = [\"Group\",\"Genotype\",\"Treatment\",\"value\"]\n",
    "        test.loc[:,\"value\"]=test.loc[:,\"value\"].astype(float)\n",
    "        model = ols('value ~ C(Genotype)*C(Treatment)', test).fit()\n",
    "        aov_table = anova_lm(model, typ=2)\n",
    "        p_genotype = aov_table[\"PR(>F)\"][0]\n",
    "        p_treatment = aov_table[\"PR(>F)\"][1]\n",
    "        p_interaction = aov_table[\"PR(>F)\"][2]\n",
    "        res_stat.loc[pwy,'p_genotype']=p_genotype\n",
    "        res_stat.loc[pwy,'p_treatment']=p_treatment\n",
    "        res_stat.loc[pwy,'p_interaction']= p_interaction\n",
    "        if p_genotype>0.05 and p_treatment>0.05 and p_interaction>0.05:\n",
    "            res_stat.loc[pwy,['p_WC_SC','p_WC_SE','p_WC_WE','p_WE_SC','p_WE_SE',\"p_SC_SE\"]]\\\n",
    "            =[np.nan,np.nan,np.nan,np.nan,np.nan,np.nan]\n",
    "            #print(pwy+\" two way ANOVA ns\")\n",
    "        else:\n",
    "            mc = statsmodels.stats.multicomp.MultiComparison(test['value'],test['Group'])\n",
    "            mc_HS_table = mc.allpairtest(stats.ttest_ind,method='fdr_bh')[0]\n",
    "            res_stat.loc[pwy,['p_WC_SC','p_WC_SE','p_WC_WE','p_WE_SC','p_WE_SE',\"p_SC_SE\"]]\\\n",
    "            = [mc_HS_table.data[2][4]]+[mc_HS_table.data[4][4]]+[mc_HS_table.data[6][4]]\\\n",
    "            +[mc_HS_table.data[3][4]]+[mc_HS_table.data[5][4]]+[mc_HS_table.data[1][4]]\n",
    "            #print(pwy+\" Multicomp (FDR_BH) EODF\")\n",
    "        #print(pwy + \"  done EODF\")\n",
    "    \n",
    "    #indices = res_stat.index[(res_stat.p_WC_SC<=0.05) & (res_stat.p_WC_SE>0.05) &( res_stat.p_SC_SE<=0.05)]\n",
    "    #indices = [\"Group\",\"Genotype\",\"Treatment\"]+indices.tolist()\n",
    "    #res_sca_sig= res_sca.loc[indices,:]\n",
    "    return res_stat #,res_sca_sig"
   ]
  },
  {
   "cell_type": "code",
   "execution_count": 55,
   "metadata": {},
   "outputs": [],
   "source": [
    "pathway_abun_stat = pathway_stat(pathway_metadata)"
   ]
  },
  {
   "cell_type": "code",
   "execution_count": 56,
   "metadata": {},
   "outputs": [],
   "source": [
    "pathway_abun_stat.to_csv(\"/Users/huananshi/Box Sync/EODF_analysis/intermediate_files/pathways/pathways_relab_all_stat.csv\")"
   ]
  }
 ],
 "metadata": {
  "kernelspec": {
   "display_name": "Python 3",
   "language": "python",
   "name": "python3"
  },
  "language_info": {
   "codemirror_mode": {
    "name": "ipython",
    "version": 3
   },
   "file_extension": ".py",
   "mimetype": "text/x-python",
   "name": "python",
   "nbconvert_exporter": "python",
   "pygments_lexer": "ipython3",
   "version": "3.7.4"
  }
 },
 "nbformat": 4,
 "nbformat_minor": 2
}
