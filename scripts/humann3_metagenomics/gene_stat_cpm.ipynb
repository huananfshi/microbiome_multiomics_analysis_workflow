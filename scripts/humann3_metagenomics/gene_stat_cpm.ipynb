{
 "cells": [
  {
   "cell_type": "code",
   "execution_count": 1,
   "metadata": {},
   "outputs": [],
   "source": [
    "import pandas as pd\n",
    "import scipy as sp\n",
    "import numpy as np\n",
    "from statsmodels.formula.api import ols\n",
    "import statsmodels.stats.multicomp\n",
    "from statsmodels.stats.anova import anova_lm\n",
    "import scipy.stats as stats"
   ]
  },
  {
   "cell_type": "code",
   "execution_count": 2,
   "metadata": {},
   "outputs": [],
   "source": [
    "gene = pd.read_csv(\"/Users/huananshi/Box Sync/EODF_analysis/intermediate_files/humann3/ecs_cpm_all_nonspecies_name_renorm.csv\",index_col=0)\n",
    "metadata = pd.read_csv(\"/Users/huananshi/Box Sync/EODF_analysis/intermediate_files/metadata/metadata.csv\",\n",
    "                       index_col=0 )\n",
    "gene_sample = metadata.index.intersection(gene.index)\n",
    "gene_name = gene.loc[\"Gene Name\"]\n",
    "gene_metadata = pd.concat([metadata.loc[gene_sample],gene.loc[gene_sample]],sort = True, axis =1 )\n",
    "gene_metadata = gene_metadata.rename(columns={'Group':'Treatment',\"Genotype_Group\":\"Group\"})\n"
   ]
  },
  {
   "cell_type": "code",
   "execution_count": 3,
   "metadata": {},
   "outputs": [],
   "source": [
    "gene_relab = pd.read_csv(\"/Users/huananshi/Box Sync/EODF_analysis/intermediate_files/humann3/ecs_cpm_all_nonspecies_name.csv\",index_col=0)\n",
    "gene_relab_metadata = pd.concat([metadata.loc[gene_sample],gene_relab.loc[gene_sample]],sort = True, axis =1 )\n",
    "gene_relab_metadata = gene_relab_metadata.rename(columns={'Group':'Treatment',\"Genotype_Group\":\"Group\"})\n",
    "\n"
   ]
  },
  {
   "cell_type": "code",
   "execution_count": 80,
   "metadata": {},
   "outputs": [],
   "source": [
    "def gene_stat(result):\n",
    "    #there are a ton of stuff can be simplified or optimized for more general use: I can load the file and filter groups based on given names\n",
    "    #i can set an argument to determine the numbers of groups, factors and determine which stats should be run\n",
    "    res_sca=result  \n",
    "    genes = res_sca.columns.tolist()[3:]\n",
    "    res_stat = pd.DataFrame(index=genes)\n",
    "    res_stat['p_interaction']=\"\"\n",
    "    res_stat['p_genotype']=\"\"\n",
    "    res_stat['p_treatment']=\"\"\n",
    "    res_stat['p_WC_SC']=\"\"\n",
    "    res_stat['p_WC_SE']=\"\"\n",
    "    res_stat['p_WC_WE']=\"\"\n",
    "    res_stat['p_WE_SC']=\"\"\n",
    "    res_stat['p_WE_SE']=\"\"\n",
    "    res_stat['p_SC_SE']=\"\"\n",
    "    res_stat['log2fc_SC_WC']=\"\"\n",
    "    res_stat['log2fc_SC_SE']=\"\"\n",
    "    for gene in genes: \n",
    "        test = res_sca.loc[:,[\"Group\",\"Genotype\",\"Treatment\",gene]]\n",
    "        test.columns = [\"Group\",\"Genotype\",\"Treatment\",\"value\"]\n",
    "        test.loc[:,\"value\"]=test.loc[:,\"value\"].astype(float)\n",
    "        model = ols('value ~ C(Genotype)*C(Treatment)', test).fit()\n",
    "        aov_table = anova_lm(model, typ=2)\n",
    "        p_genotype = aov_table[\"PR(>F)\"][0]\n",
    "        p_treatment = aov_table[\"PR(>F)\"][1]\n",
    "        p_interaction = aov_table[\"PR(>F)\"][2]\n",
    "        res_stat.loc[gene,'p_genotype']=p_genotype\n",
    "        res_stat.loc[gene,'p_treatment']=p_treatment\n",
    "        res_stat.loc[gene,'p_interaction']= p_interaction\n",
    "        \"\"\"mc = statsmodels.stats.multicomp.MultiComparison(test['value'],test['Group'])\n",
    "        try:\n",
    "            mc_HS_table = mc.allpairtest(stats.kruskal,method='fdr_bh')[0]\n",
    "            res_stat.loc[gene,['p_WC_SC','p_WC_SE','p_WC_WE','p_WE_SC','p_WE_SE',\"p_SC_SE\"]]\\\n",
    "            = [mc_HS_table.data[2][3]]+[mc_HS_table.data[4][3]]+[mc_HS_table.data[6][3]]\\\n",
    "            +[mc_HS_table.data[3][3]]+[mc_HS_table.data[5][3]]+[mc_HS_table.data[1][3]]\n",
    "        except: print(gene + \"  not valid\")\"\"\"\n",
    "        if p_genotype>0.05 and p_treatment>0.05 and p_interaction>0.05:\n",
    "            res_stat.loc[gene,['p_WC_SC','p_WC_SE','p_WC_WE','p_WE_SC','p_WE_SE',\"p_SC_SE\"]]\\\n",
    "            =[np.nan,np.nan,np.nan,np.nan,np.nan,np.nan]\n",
    "            #print(gene+\" two way ANOVA ns\")\n",
    "        else:\n",
    "            mc = statsmodels.stats.multicomp.MultiComparison(test['value'],test['Group'])\n",
    "            try: \n",
    "                mc_HS_table = mc.allpairtest(stats.ttest_ind,method='fdr_bh')[0]\n",
    "                res_stat.loc[gene,['p_WC_SC','p_WC_SE','p_WC_WE','p_WE_SC','p_WE_SE',\"p_SC_SE\"]]\\\n",
    "                = [mc_HS_table.data[2][3]]+[mc_HS_table.data[4][3]]+[mc_HS_table.data[6][3]]\\\n",
    "                +[mc_HS_table.data[3][3]]+[mc_HS_table.data[5][3]]+[mc_HS_table.data[1][3]]\n",
    "            except: print('notvalid')\n",
    "            #print(gene+\" Multicomp (FDR_BH) EODF\")\n",
    "        \n",
    "\n",
    "    #indices = res_stat.index[(res_stat.p_WC_SC<=0.05) & (res_stat.p_WC_SE>0.05) &( res_stat.p_SC_SE<=0.05)]\n",
    "    #indices = [\"Group\",\"Genotype\",\"Treatment\"]+indices.tolist()\n",
    "    #res_sca_sig= res_sca.loc[indices,:]\n",
    "    return res_stat #,res_sca_sig"
   ]
  },
  {
   "cell_type": "code",
   "execution_count": null,
   "metadata": {},
   "outputs": [],
   "source": []
  },
  {
   "cell_type": "code",
   "execution_count": null,
   "metadata": {},
   "outputs": [],
   "source": []
  },
  {
   "cell_type": "code",
   "execution_count": 81,
   "metadata": {
    "scrolled": true
   },
   "outputs": [],
   "source": [
    "gene_abun_stat = gene_stat(gene_metadata)"
   ]
  },
  {
   "cell_type": "code",
   "execution_count": 54,
   "metadata": {},
   "outputs": [],
   "source": [
    "#calculating fold change (log2)\n",
    "ecs = gene_relab_metadata.columns.tolist()[3:]\n",
    "gene_relab_metadata[ecs]=gene_relab_metadata[ecs].astype(float)\n",
    "gene_sum = gene_relab_metadata.groupby(\"Group\").mean().transpose()\n",
    "gene_abun_stat['fc_SC_WC'] = gene_sum[\"SHRSP_Con\"].div(gene_sum[\"WKY_Con\"])\n",
    "gene_abun_stat['fc_SC_SE'] = gene_sum[\"SHRSP_Con\"].div(gene_sum[\"SHRSP_EODF\"])\n",
    "gene_abun_stat['log2fc_SC_WC'] = gene_abun_stat['fc_SC_WC'].apply(np.log2)\n",
    "gene_abun_stat['log2fc_SC_SE'] = gene_sum[\"SHRSP_Con\"].div(gene_sum[\"SHRSP_EODF\"]).apply(np.log2)"
   ]
  },
  {
   "cell_type": "code",
   "execution_count": 55,
   "metadata": {},
   "outputs": [],
   "source": [
    "gene_abun_stat_name = pd.concat([gene_name,gene_abun_stat],axis = 1)"
   ]
  },
  {
   "cell_type": "code",
   "execution_count": 56,
   "metadata": {},
   "outputs": [],
   "source": [
    "gene_abun_stat_name.to_csv(\"/Users/huananshi/Box Sync/EODF_analysis/outputs/humann3/humann3_ecs_cpm_all_name_stat_kw_non_correct.csv\")"
   ]
  },
  {
   "cell_type": "code",
   "execution_count": 77,
   "metadata": {},
   "outputs": [
    {
     "name": "stdout",
     "output_type": "stream",
     "text": [
      "1.1.1.100    0.1531\n",
      "1.1.1.103    0.0027\n",
      "1.1.1.122    0.0066\n",
      "1.1.1.125    0.0633\n",
      "1.1.1.127    0.0455\n",
      "              ...  \n",
      "7.1.1.1      0.0633\n",
      "7.1.3.1      0.0101\n",
      "7.2.4.2      0.0865\n",
      "7.3.2.1      0.1985\n",
      "7.3.2.5            \n",
      "Name: p_WC_SC, Length: 1050, dtype: object\n"
     ]
    }
   ],
   "source": [
    "print(gene_abun_stat_name.p_WC_SC.dropna())"
   ]
  },
  {
   "cell_type": "code",
   "execution_count": 64,
   "metadata": {},
   "outputs": [
    {
     "ename": "TypeError",
     "evalue": "'<=' not supported between instances of 'builtin_function_or_method' and 'float'",
     "output_type": "error",
     "traceback": [
      "\u001b[0;31m---------------------------------------------------------------------------\u001b[0m",
      "\u001b[0;31mTypeError\u001b[0m                                 Traceback (most recent call last)",
      "\u001b[0;32m<ipython-input-64-39d144876719>\u001b[0m in \u001b[0;36m<module>\u001b[0;34m\u001b[0m\n\u001b[0;32m----> 1\u001b[0;31m \u001b[0mstatsmodels\u001b[0m\u001b[0;34m.\u001b[0m\u001b[0mstats\u001b[0m\u001b[0;34m.\u001b[0m\u001b[0mmultitest\u001b[0m\u001b[0;34m.\u001b[0m\u001b[0mfdrcorrection\u001b[0m\u001b[0;34m(\u001b[0m\u001b[0mgene_abun_stat_name\u001b[0m\u001b[0;34m.\u001b[0m\u001b[0mp_WC_SC\u001b[0m\u001b[0;34m.\u001b[0m\u001b[0mvalues\u001b[0m\u001b[0;34m.\u001b[0m\u001b[0mastype\u001b[0m\u001b[0;34m)\u001b[0m\u001b[0;34m\u001b[0m\u001b[0;34m\u001b[0m\u001b[0m\n\u001b[0m",
      "\u001b[0;32m/opt/anaconda3/lib/python3.7/site-packages/statsmodels/stats/multitest.py\u001b[0m in \u001b[0;36mfdrcorrection\u001b[0;34m(pvals, alpha, method, is_sorted)\u001b[0m\n\u001b[1;32m    323\u001b[0m     \u001b[0;32melse\u001b[0m\u001b[0;34m:\u001b[0m\u001b[0;34m\u001b[0m\u001b[0;34m\u001b[0m\u001b[0m\n\u001b[1;32m    324\u001b[0m         \u001b[0;32mraise\u001b[0m \u001b[0mValueError\u001b[0m\u001b[0;34m(\u001b[0m\u001b[0;34m'only indep and negcorr implemented'\u001b[0m\u001b[0;34m)\u001b[0m\u001b[0;34m\u001b[0m\u001b[0;34m\u001b[0m\u001b[0m\n\u001b[0;32m--> 325\u001b[0;31m     \u001b[0mreject\u001b[0m \u001b[0;34m=\u001b[0m \u001b[0mpvals_sorted\u001b[0m \u001b[0;34m<=\u001b[0m \u001b[0mecdffactor\u001b[0m\u001b[0;34m*\u001b[0m\u001b[0malpha\u001b[0m\u001b[0;34m\u001b[0m\u001b[0;34m\u001b[0m\u001b[0m\n\u001b[0m\u001b[1;32m    326\u001b[0m     \u001b[0;32mif\u001b[0m \u001b[0mreject\u001b[0m\u001b[0;34m.\u001b[0m\u001b[0many\u001b[0m\u001b[0;34m(\u001b[0m\u001b[0;34m)\u001b[0m\u001b[0;34m:\u001b[0m\u001b[0;34m\u001b[0m\u001b[0;34m\u001b[0m\u001b[0m\n\u001b[1;32m    327\u001b[0m         \u001b[0mrejectmax\u001b[0m \u001b[0;34m=\u001b[0m \u001b[0mmax\u001b[0m\u001b[0;34m(\u001b[0m\u001b[0mnp\u001b[0m\u001b[0;34m.\u001b[0m\u001b[0mnonzero\u001b[0m\u001b[0;34m(\u001b[0m\u001b[0mreject\u001b[0m\u001b[0;34m)\u001b[0m\u001b[0;34m[\u001b[0m\u001b[0;36m0\u001b[0m\u001b[0;34m]\u001b[0m\u001b[0;34m)\u001b[0m\u001b[0;34m\u001b[0m\u001b[0;34m\u001b[0m\u001b[0m\n",
      "\u001b[0;31mTypeError\u001b[0m: '<=' not supported between instances of 'builtin_function_or_method' and 'float'"
     ]
    }
   ],
   "source": [
    "statsmodels.stats.multitest.fdrcorrection(gene_abun_stat_name.p_WC_SC.values.astype)"
   ]
  },
  {
   "cell_type": "code",
   "execution_count": 45,
   "metadata": {},
   "outputs": [],
   "source": [
    "gene_abun_stat.to_csv(\"/Users/huananshi/Box Sync/EODF_analysis/outputs/humann3/humann3_kegg_cpm_all_stat.csv\")\n",
    "\n"
   ]
  },
  {
   "cell_type": "code",
   "execution_count": null,
   "metadata": {},
   "outputs": [],
   "source": []
  },
  {
   "cell_type": "code",
   "execution_count": null,
   "metadata": {},
   "outputs": [],
   "source": []
  }
 ],
 "metadata": {
  "kernelspec": {
   "display_name": "Python 3",
   "language": "python",
   "name": "python3"
  },
  "language_info": {
   "codemirror_mode": {
    "name": "ipython",
    "version": 3
   },
   "file_extension": ".py",
   "mimetype": "text/x-python",
   "name": "python",
   "nbconvert_exporter": "python",
   "pygments_lexer": "ipython3",
   "version": "3.7.6"
  }
 },
 "nbformat": 4,
 "nbformat_minor": 2
}
